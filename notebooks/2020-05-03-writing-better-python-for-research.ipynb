{
 "cells": [
  {
   "cell_type": "markdown",
   "metadata": {},
   "source": [
    "Writing readable high-quality code is key to being able to carry out efficent and effective research. Whilst in lockdown over the past six weeks I've been trying to improve my python skills, and learn about better ways to write my research code. I want to share two things I've found particular useful for improving the qualtiy of my own code, in the hope that they will help you too. \n",
    "\n",
    "This post has had many sources of insparation, my main one has been from watching videos of Raymond Hettinger, in particular [this one](https://www.youtube.com/watch?v=OSGv2VnC0go), which is packed full of amazing python tips. Also I've learned many things from reading other blog posts like [this one](https://medium.com/the-andela-way/idiomatic-python-coding-the-smart-way-cc560fa5f1d6) and [this one](https://docs.python-guide.org/writing/style/). \n",
    "\n",
    "### List comprehension\n",
    "\n",
    "In lots of my research code I'm always collecting and mointoring values from an experiment I'm running. For simplicty let's just assume our experiment is collecting the numbers from 0 to 9, the common pattern I use for this sort of thing is the following for loop: "
   ]
  },
  {
   "cell_type": "code",
   "execution_count": 67,
   "metadata": {},
   "outputs": [
    {
     "name": "stdout",
     "output_type": "stream",
     "text": [
      "[0, 1, 2, 3, 4, 5, 6, 7, 8, 9]\n"
     ]
    }
   ],
   "source": [
    "results = []\n",
    "for i in range(10):\n",
    "    results.append(i)\n",
    "print(results)"
   ]
  },
  {
   "cell_type": "markdown",
   "metadata": {},
   "source": [
    "Instead of doing this we can use list comprehension to achieve exactly the same thing, which would look like this:"
   ]
  },
  {
   "cell_type": "code",
   "execution_count": 68,
   "metadata": {},
   "outputs": [
    {
     "name": "stdout",
     "output_type": "stream",
     "text": [
      "[0, 1, 2, 3, 4, 5, 6, 7, 8, 9]\n"
     ]
    }
   ],
   "source": [
    "results = [i for i in range(10)]\n",
    "print(results)"
   ]
  },
  {
   "cell_type": "markdown",
   "metadata": {},
   "source": [
    "So much more clean right? The first thing to notice is that we decreased the amount of code needed **and** retained its readability. The second thing to notice is that this way of doing things is also faster than the for loop. We can see this by timing each of the methods, let's also increase the number we want to count to to 10000 so we can see the speed up:"
   ]
  },
  {
   "cell_type": "code",
   "execution_count": 72,
   "metadata": {},
   "outputs": [
    {
     "name": "stdout",
     "output_type": "stream",
     "text": [
      "1.02 ms ± 175 µs per loop (mean ± std. dev. of 7 runs, 1000 loops each)\n"
     ]
    }
   ],
   "source": [
    "%%timeit\n",
    "results = []\n",
    "for i in range(10000):\n",
    "    results.append(i)"
   ]
  },
  {
   "cell_type": "code",
   "execution_count": 73,
   "metadata": {},
   "outputs": [
    {
     "name": "stdout",
     "output_type": "stream",
     "text": [
      "435 µs ± 56.5 µs per loop (mean ± std. dev. of 7 runs, 1000 loops each)\n"
     ]
    }
   ],
   "source": [
    "%%timeit\n",
    "results = [i for i in range(10000)]"
   ]
  },
  {
   "cell_type": "markdown",
   "metadata": {},
   "source": [
    "We can see that the list comphrhension was about twice as fast as the for loop! List comprehsiosn can alse be combined with condiational expressions. Lets just count the even numbers from 0 to 9 for example:"
   ]
  },
  {
   "cell_type": "code",
   "execution_count": 96,
   "metadata": {},
   "outputs": [
    {
     "name": "stdout",
     "output_type": "stream",
     "text": [
      "[0, 2, 4, 6, 8]\n"
     ]
    }
   ],
   "source": [
    "results = [i for i in range(10) if i % 2 == 0]\n",
    "print(results)"
   ]
  },
  {
   "cell_type": "markdown",
   "metadata": {},
   "source": [
    "We can also use list comphrehension to build dictionaries in a similar way by replacing \\[ \\] with \\{ \\}."
   ]
  },
  {
   "cell_type": "markdown",
   "metadata": {},
   "source": [
    "### Named tuples for model parameter vectors\n",
    "\n",
    "Another common thing I have to do is fitting models to data. This procedure often requires passing vectors of parameters between functions. For example let's assume we are fitting a straight line to some data, we will need a function that takes the input value (x) and predicts a output value (y) for given values of our model parameters (slope = 1.0 and intercept = 2.0). Let's say for the vector or parameters for this model the first element is the intercept and the second element is the slope. The the predict function would look something like this:"
   ]
  },
  {
   "cell_type": "code",
   "execution_count": 97,
   "metadata": {},
   "outputs": [],
   "source": [
    "params = [1.0, 2.0]\n",
    "\n",
    "def predict_y(params, x):\n",
    "    return params[0] + params[1] * x"
   ]
  },
  {
   "cell_type": "markdown",
   "metadata": {},
   "source": [
    "OK, this code doesn't look too bad. But you can imagine if we have a more complicated model with say 10 parameters then this could get messy. Moreover using this method requires remebering the order of the parameters and if we were to change the order this function would break. Having to access the paramters by indexing also make the code harder to understand. \n",
    "\n",
    "Instead of using a list or array we could used a namedtuple as the parameter vector:"
   ]
  },
  {
   "cell_type": "code",
   "execution_count": 102,
   "metadata": {},
   "outputs": [],
   "source": [
    "from collections import namedtuple\n",
    "\n",
    "Parameters = namedtuple('Parameters', 'intercept slope')\n",
    "params = Parameters(intercept=1.0, slope=2.0)"
   ]
  },
  {
   "cell_type": "markdown",
   "metadata": {},
   "source": [
    "What's really cool about named tuples is that in addition to being able to access its elements with indexing we can also access them by the class style '.' syntax. "
   ]
  },
  {
   "cell_type": "code",
   "execution_count": 104,
   "metadata": {},
   "outputs": [
    {
     "name": "stdout",
     "output_type": "stream",
     "text": [
      "1.0 2.0\n",
      "1.0 2.0\n"
     ]
    }
   ],
   "source": [
    "print(params[0], params[1])\n",
    "print(params.intercept, params.slope)"
   ]
  },
  {
   "cell_type": "markdown",
   "metadata": {},
   "source": [
    "Also if we print out params we get a descriptive representation compared to priniting an array or list."
   ]
  },
  {
   "cell_type": "code",
   "execution_count": 107,
   "metadata": {},
   "outputs": [
    {
     "name": "stdout",
     "output_type": "stream",
     "text": [
      "Parameters(intercept=1.0, slope=2.0)\n"
     ]
    }
   ],
   "source": [
    "print(params)"
   ]
  },
  {
   "cell_type": "markdown",
   "metadata": {},
   "source": [
    "If we use the Parameters namedtuple we can then rewrite our predict_y function as:"
   ]
  },
  {
   "cell_type": "code",
   "execution_count": 105,
   "metadata": {},
   "outputs": [],
   "source": [
    "def predict_y(params, x):\n",
    "    return params.intercept + params.slope * x"
   ]
  },
  {
   "cell_type": "markdown",
   "metadata": {},
   "source": [
    "Which is far more readable than the previous version. In addition to this if we decide to change the order of our parameter vector this function will not break!"
   ]
  },
  {
   "cell_type": "code",
   "execution_count": null,
   "metadata": {},
   "outputs": [],
   "source": []
  },
  {
   "cell_type": "code",
   "execution_count": null,
   "metadata": {},
   "outputs": [],
   "source": []
  }
 ],
 "metadata": {
  "kernelspec": {
   "display_name": "Python 3",
   "language": "python",
   "name": "python3"
  },
  "language_info": {
   "codemirror_mode": {
    "name": "ipython",
    "version": 3
   },
   "file_extension": ".py",
   "mimetype": "text/x-python",
   "name": "python",
   "nbconvert_exporter": "python",
   "pygments_lexer": "ipython3",
   "version": "3.6.3"
  }
 },
 "nbformat": 4,
 "nbformat_minor": 2
}
