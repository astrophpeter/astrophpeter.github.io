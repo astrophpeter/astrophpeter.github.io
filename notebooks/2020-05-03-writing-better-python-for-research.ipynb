{
 "cells": [
  {
   "cell_type": "markdown",
   "metadata": {},
   "source": [
    "Whilst in lockdown over the past 6 weeks I've been trying to improve my python skills, and learn about better ways to write my research code. I want to share 3 things I've found particular useful for improving the qualtiy of my own research code, in the hope they will help you too. \n",
    "\n",
    "This post has many sources of insparation, my main one has been from watching videos of Raymond Hettinger, in particular [this one](https://www.youtube.com/watch?v=OSGv2VnC0go), which is packed full of amazing python tips. Also from reading other blog posts like [this one](https://medium.com/the-andela-way/idiomatic-python-coding-the-smart-way-cc560fa5f1d6) from and [this one](https://docs.python-guide.org/writing/style/) and finally this one. \n",
    "\n",
    "### List comprehension\n",
    "\n",
    "In lots of my research code I'm always collecting an mointoring values from an experiment I might be running. For simplicty let's just assume our experiment is collecting the numbers from 0 to 9, the common pattern I use for this sort of thing is the following. "
   ]
  },
  {
   "cell_type": "code",
   "execution_count": 67,
   "metadata": {},
   "outputs": [
    {
     "name": "stdout",
     "output_type": "stream",
     "text": [
      "[0, 1, 2, 3, 4, 5, 6, 7, 8, 9]\n"
     ]
    }
   ],
   "source": [
    "results = []\n",
    "for i in range(10):\n",
    "    results.append(i)\n",
    "print(results)"
   ]
  },
  {
   "cell_type": "markdown",
   "metadata": {},
   "source": [
    "Instead of doing this we can use list comprehension with a generator expression to achieve exactly the thing:"
   ]
  },
  {
   "cell_type": "code",
   "execution_count": 68,
   "metadata": {},
   "outputs": [
    {
     "name": "stdout",
     "output_type": "stream",
     "text": [
      "[0, 1, 2, 3, 4, 5, 6, 7, 8, 9]\n"
     ]
    }
   ],
   "source": [
    "results = [i for i in range(10)]\n",
    "print(results)"
   ]
  },
  {
   "cell_type": "markdown",
   "metadata": {},
   "source": [
    "So much more clean right? The first think to note we decreased the amount of code and retained the readability. If you think couldn't get even better, the genreator expression is also faster than the for loop. We can see this by timing each of the methods, let's also increase the number we want to count to to 10000 so we can see the speed up:"
   ]
  },
  {
   "cell_type": "code",
   "execution_count": 72,
   "metadata": {},
   "outputs": [
    {
     "name": "stdout",
     "output_type": "stream",
     "text": [
      "1.02 ms ± 175 µs per loop (mean ± std. dev. of 7 runs, 1000 loops each)\n"
     ]
    }
   ],
   "source": [
    "%%timeit\n",
    "results = []\n",
    "for i in range(10000):\n",
    "    results.append(i)"
   ]
  },
  {
   "cell_type": "code",
   "execution_count": 73,
   "metadata": {},
   "outputs": [
    {
     "name": "stdout",
     "output_type": "stream",
     "text": [
      "435 µs ± 56.5 µs per loop (mean ± std. dev. of 7 runs, 1000 loops each)\n"
     ]
    }
   ],
   "source": [
    "%%timeit\n",
    "results = [i for i in range(10000)]"
   ]
  },
  {
   "cell_type": "markdown",
   "metadata": {},
   "source": [
    "We can see that the list comphrhension was about twice as fast. We can also use this type of syntax to build dictionaries and tuples. "
   ]
  },
  {
   "cell_type": "markdown",
   "metadata": {},
   "source": [
    "### Named tuples for model parameter vectors\n",
    "\n",
    "Another common thing I have to is fitting models to data. This procedure often requires passing vectors of parameters between functions. For example let's assume we are fitting a straight line to some data, we will need a function that takes the and input value (x) and predicts a output value (y) for given values of our model parameters (slope and intercept). Let's say for the vector or parameters for this model the first element is the intercep and the second element is the slope, then the predict function would look something like this:"
   ]
  },
  {
   "cell_type": "code",
   "execution_count": 93,
   "metadata": {},
   "outputs": [],
   "source": [
    "params = [1.0, 2.0]\n",
    "\n",
    "def predict_y(params, x):\n",
    "    return params[0] + params[1] * x"
   ]
  },
  {
   "cell_type": "markdown",
   "metadata": {},
   "source": [
    "Ok this code doesnt look too bad. But you can imagine if we have a more complicated model with say 10 parameters this could get messy. Using this method also have to remeber the ordering of the parameters and if i were to change the order this code would break."
   ]
  },
  {
   "cell_type": "code",
   "execution_count": 94,
   "metadata": {},
   "outputs": [],
   "source": [
    "from collections import namedtuple\n",
    "\n",
    "Parameters = namedtuple('Parameters', 'intercept slope')\n",
    "params = Parameters(intercept=1.0, slope=2.0)"
   ]
  },
  {
   "cell_type": "code",
   "execution_count": null,
   "metadata": {},
   "outputs": [],
   "source": []
  },
  {
   "cell_type": "code",
   "execution_count": 65,
   "metadata": {},
   "outputs": [],
   "source": [
    "def predict_y(params, x):\n",
    "    return params.intercept + params.slope * x"
   ]
  },
  {
   "cell_type": "code",
   "execution_count": null,
   "metadata": {},
   "outputs": [],
   "source": []
  }
 ],
 "metadata": {
  "kernelspec": {
   "display_name": "Python 3",
   "language": "python",
   "name": "python3"
  },
  "language_info": {
   "codemirror_mode": {
    "name": "ipython",
    "version": 3
   },
   "file_extension": ".py",
   "mimetype": "text/x-python",
   "name": "python",
   "nbconvert_exporter": "python",
   "pygments_lexer": "ipython3",
   "version": "3.6.3"
  }
 },
 "nbformat": 4,
 "nbformat_minor": 2
}
